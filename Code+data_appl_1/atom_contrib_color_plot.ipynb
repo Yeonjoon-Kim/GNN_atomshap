{
 "cells": [
  {
   "cell_type": "code",
   "execution_count": null,
   "id": "hungry-jesus",
   "metadata": {
    "tags": []
   },
   "outputs": [],
   "source": [
    "import pandas as pd\n",
    "import matplotlib.pyplot as plt\n",
    "import seaborn as sns\n",
    "import pandas as pd\n",
    "sns.set(context='talk', style='ticks',\n",
    "        color_codes=True, rc={'legend.frameon': False})\n",
    "\n",
    "%matplotlib inline\n",
    "import matplotlib\n",
    "matplotlib.rcParams['figure.dpi'] = 300\n",
    "plt.rcParams[\"font.family\"] = 'Arial'\n",
    "plt.rcParams.update({'font.size': 20})\n",
    "from rdkit import Chem\n",
    "import numpy as np"
   ]
  },
  {
   "cell_type": "code",
   "execution_count": null,
   "id": "parliamentary-coral",
   "metadata": {
    "tags": []
   },
   "outputs": [],
   "source": [
    "df = pd.read_csv('CN_shap_250213.csv')\n",
    "df['can_smiles'] = [  Chem.MolToSmiles(Chem.MolFromSmiles(smi)) for smi in df['Canonical_SMILES']]\n",
    "df = df.sort_values(by=['can_smiles'])"
   ]
  },
  {
   "cell_type": "code",
   "execution_count": null,
   "id": "close-sigma",
   "metadata": {},
   "outputs": [],
   "source": [
    "Shap_contrib = []\n",
    "for _, row in df.iterrows():\n",
    "    shap_contrib = np.array([float(x) for x in row['atomwise_shap'].replace('\\n','')[1:-1].split()])\n",
    "    Shap_contrib.append(shap_contrib)\n",
    "df['Shap_contrib'] = Shap_contrib"
   ]
  },
  {
   "cell_type": "code",
   "execution_count": null,
   "id": "c896e401-aed4-4736-b70a-f0ff3bc3a961",
   "metadata": {},
   "outputs": [],
   "source": [
    "df['Shap_min'] = df.Shap_contrib.apply(lambda x: min(x))\n",
    "df['Shap_max'] = df.Shap_contrib.apply(lambda x: max(x))"
   ]
  },
  {
   "cell_type": "code",
   "execution_count": null,
   "id": "a9b7fbe0-197c-41ff-8b67-5b7b0ef64095",
   "metadata": {},
   "outputs": [],
   "source": [
    "df = df.sort_values(by=['Shap_min'], ascending = True)\n",
    "df.head(n=3)"
   ]
  },
  {
   "cell_type": "code",
   "execution_count": null,
   "id": "524125c1-49c5-4dbe-a422-f4d9fe37038b",
   "metadata": {},
   "outputs": [],
   "source": [
    "df = df.sort_values(by=['Shap_max'], ascending = False)\n",
    "df.head(n=3)"
   ]
  },
  {
   "cell_type": "code",
   "execution_count": null,
   "id": "ab6cf9b5-aed5-4cdc-9218-d03b3e046706",
   "metadata": {},
   "outputs": [],
   "source": [
    "df.Shap_min.min(), df.Shap_max.max()"
   ]
  },
  {
   "cell_type": "code",
   "execution_count": null,
   "id": "alien-maryland",
   "metadata": {},
   "outputs": [],
   "source": [
    "df"
   ]
  },
  {
   "cell_type": "code",
   "execution_count": null,
   "id": "challenging-winning",
   "metadata": {},
   "outputs": [],
   "source": [
    "from IPython.display import display, SVG, HTML\n",
    "import matplotlib as mpl\n",
    "import matplotlib.cm as cm\n",
    "import matplotlib.pyplot as plt\n",
    "from rdkit.Chem import rdDepictor\n",
    "from rdkit.Chem.Draw import rdMolDraw2D\n",
    "\n",
    "\n",
    "norm = mpl.colors.Normalize(\n",
    "    vmin=0,\n",
    "    vmax=20)\n",
    "cmap = cm.RdBu\n",
    "m = cm.ScalarMappable(norm=norm, cmap=cmap)\n",
    "\n",
    "#fig = plt.figure()\n",
    "#ax = fig.add_subplot(111)\n",
    "#ax.set_yticks([])\n",
    "#plt.colorbar(m, ax=[ax], location='left')\n",
    "\n",
    "rgb2hex = lambda r,g,b: f\"#{r:02x}{g:02x}{b:02x}\"\n",
    "\n",
    "def get_color(x):\n",
    "    return m.to_rgba(float(x))\n",
    "    #rgba = np.asarray(m.to_rgba(float(x)))\n",
    "    #return tuple(rgba[:-1])\n",
    "\n",
    "def draw_mol_svg(mol_str, color_dict, prop, figsize=(600, 600)):\n",
    "    mol = Chem.MolFromSmiles(mol_str)\n",
    "    \n",
    "    '''\n",
    "    for i, atom in enumerate(mol.GetAtoms()):\n",
    "        atom.SetProp(\"atomNote\", '%.1f' % prop[i] )\n",
    "    '''\n",
    "    \n",
    "    mc = Chem.Mol(mol.ToBinary())\n",
    "    Chem.Kekulize(mc)\n",
    "    rdDepictor.Compute2DCoords(mc)\n",
    "\n",
    "    drawer = rdMolDraw2D.MolDraw2DSVG(*figsize)\n",
    "    #drawer.drawOptions().minFontSize = 80\n",
    "    drawer.SetFontSize(40)\n",
    "    \n",
    "    '''\n",
    "    opts = drawer.drawOptions()\n",
    "    for i in range(mol.GetNumAtoms()):\n",
    "        opts.atomLabels[i] = mol.GetAtomWithIdx(i).GetSymbol() + ' ' + '%.1f' % prop[i]\n",
    "    '''\n",
    "    \n",
    "    n_atoms = len(mol.GetAtoms())\n",
    "    assert n_atoms == len(color_dict), \"{} atoms in mol, {} colors\".format(n_atoms, len(color_dict))\n",
    "\n",
    "    if color_dict is not None:\n",
    "        drawer.DrawMolecule(\n",
    "            mc, highlightAtoms=range(len(color_dict.keys())),\n",
    "            highlightAtomColors=color_dict,\n",
    "            highlightBonds=False)\n",
    "\n",
    "    else:\n",
    "        drawer.DrawMolecule(mc)\n",
    "\n",
    "    drawer.FinishDrawing()\n",
    "    svg = drawer.GetDrawingText()\n",
    "    svg = svg.replace('svg:', '').replace(':svg', '')\n",
    "    return svg\n",
    "\n",
    "def draw_shap(row):\n",
    "    norm = mpl.colors.Normalize(\n",
    "    vmin= min(row['Shap_contrib']) - ( abs(min(row['Shap_contrib'])) * 0.2 ),\n",
    "    vmax= max(row['Shap_contrib']) + ( abs(max(row['Shap_contrib'])) * 0.2 ) \n",
    "    #vmin = 0.0,\n",
    "    #vmax = 20.0\n",
    "    )\n",
    "    cmap = cm.RdBu\n",
    "    m = cm.ScalarMappable(norm=norm, cmap=cmap)\n",
    "    \n",
    "    print('min_shap: ', min(row['Shap_contrib']), 'max_shap:', max(row['Shap_contrib']))\n",
    "    svg = draw_mol_svg(\n",
    "        row['Canonical_SMILES'],\n",
    "        {i: m.to_rgba(row['Shap_contrib'][i]) for i in range(len(row['Shap_contrib'])) },\n",
    "        row['Shap_contrib']\n",
    "    )\n",
    "    #return svg\n",
    "    \n",
    "    t = svg.split('\\n')\n",
    "    #t.insert(-2, f'<text x=\"0\" y=\"485\">{row[\"Canonical_SMILES\"]}</text>')\n",
    "    t.insert(-2, f'<text x=\"0\" y=\"600\">Measured: {row[\"CN\"]:.1f}, Predicted: {row[\"predicted\"]:.1f}</text>')\n",
    "    return SVG('\\n'.join(t)"
   ]
  },
  {
   "cell_type": "code",
   "execution_count": null,
   "id": "hairy-internet",
   "metadata": {},
   "outputs": [],
   "source": [
    "for _, row in df.iterrows():\n",
    "    #if row['can_smiles'] == Chem.MolToSmiles(Chem.MolFromSmiles('CCCC1=CC=C(C=C1)OC')):\n",
    "    if row['can_smiles'] == Chem.MolToSmiles(Chem.MolFromSmiles('CCCCCCCCCCCCCC(=O)OCC')):\n",
    "    #if row['can_smiles'] == Chem.MolToSmiles(Chem.MolFromSmiles('CCCCC=CC')):\n",
    "    #if row['can_smiles'] == Chem.MolToSmiles(Chem.MolFromSmiles('COc1ccccc1OC')):\n",
    "    #if row['can_smiles'] == Chem.MolToSmiles(Chem.MolFromSmiles('COc1ccccc1OC')):\n",
    "        display(draw_shap(row))\n",
    "        print(row['Canonical_SMILES'])\n",
    "        break"
   ]
  },
  {
   "cell_type": "code",
   "execution_count": null,
   "id": "eaf17385-c1e8-4ea4-a6b6-f749e9d8d632",
   "metadata": {},
   "outputs": [],
   "source": [
    "import cairosvg\n",
    "import matplotlib as mpl\n",
    "import matplotlib.cm as cm\n",
    "from IPython.display import SVG\n",
    "import io\n",
    "\n",
    "def draw_shap(row, filename=\"output.png\"):\n",
    "    norm = mpl.colors.Normalize(\n",
    "        vmin=min(row['Shap_contrib']) - (abs(min(row['Shap_contrib'])) * 0.2),\n",
    "        vmax=max(row['Shap_contrib']) + (abs(max(row['Shap_contrib'])) * 0.2)\n",
    "    )\n",
    "    cmap = cm.RdBu\n",
    "    m = cm.ScalarMappable(norm=norm, cmap=cmap)\n",
    "    \n",
    "    print('min_shap: ', min(row['Shap_contrib']), 'max_shap:', max(row['Shap_contrib']))\n",
    "    \n",
    "    svg = draw_mol_svg(\n",
    "        row['Canonical_SMILES'],\n",
    "        {i: m.to_rgba(row['Shap_contrib'][i]) for i in range(len(row['Shap_contrib']))},\n",
    "        row['Shap_contrib']\n",
    "    )\n",
    "    \n",
    "    png_bytes = cairosvg.svg2png(bytestring=svg.encode('utf-8'), dpi=300)\n",
    "\n",
    "    with open(filename, \"wb\") as f:\n",
    "        f.write(png_bytes)\n",
    "    \n",
    "    print(f\"Saved: {filename}\")\n",
    "\n",
    "# draw_shap_and_save(row, filename=\"shap_output.png\")"
   ]
  },
  {
   "cell_type": "code",
   "execution_count": null,
   "id": "1ea350b1-6730-4552-8f84-e60a2db6b9cb",
   "metadata": {},
   "outputs": [],
   "source": [
    "for _, row in df.iterrows():\n",
    "    #if row['can_smiles'] == Chem.MolToSmiles(Chem.MolFromSmiles('CCCC1=CC=C(C=C1)O')):\n",
    "    #if row['can_smiles'] == Chem.MolToSmiles(Chem.MolFromSmiles('CCCC=C(CCCC)CCCCCCC')):\n",
    "    #if row['can_smiles'] == Chem.MolToSmiles(Chem.MolFromSmiles('CCCCCCCC(=O)OCCCC')):\n",
    "    if row['can_smiles'] == Chem.MolToSmiles(Chem.MolFromSmiles('CC(C)CCOC(=O)C(C)O')):\n",
    "    #if row['can_smiles'] == Chem.MolToSmiles(Chem.MolFromSmiles('CCCCCCCCCCCCCC(=O)OCC')):\n",
    "        display(draw_shap(row, filename=\"2.png\"))\n",
    "        print(row['Canonical_SMILES'])\n",
    "        break"
   ]
  },
  {
   "cell_type": "code",
   "execution_count": null,
   "id": "573edc6c-af44-4cd0-853c-fdf2fbc6d509",
   "metadata": {},
   "outputs": [],
   "source": [
    "import matplotlib.pyplot as plt\n",
    "import matplotlib.cm as cm\n",
    "import matplotlib.colors as mcolors\n",
    "from rdkit import Chem\n",
    "from rdkit.Chem import Draw\n",
    "\n",
    "def draw_shap_with_narrow_colorbar(row):\n",
    "    fig, ax = plt.subplots(figsize=(6, 4)) \n",
    "    \n",
    "    vmin = min(row['Shap_contrib']) - (abs(min(row['Shap_contrib'])) * 0.2)\n",
    "    vmax = max(row['Shap_contrib']) + (abs(max(row['Shap_contrib'])) * 0.2)\n",
    "\n",
    "    cmap = cm.RdBu\n",
    "    norm = mcolors.Normalize(vmin=vmin, vmax=vmax)\n",
    "    sm = cm.ScalarMappable(cmap=cmap, norm=norm)\n",
    "    sm.set_array([])\n",
    "\n",
    "    atom_colors = {i: sm.to_rgba(row['Shap_contrib'][i]) for i in range(len(row['Shap_contrib']))}\n",
    "    mol = Chem.MolFromSmiles(row['Canonical_SMILES'])\n",
    "    img = Draw.MolToImage(mol, size=(300, 300), highlightAtoms=list(atom_colors.keys()), highlightAtomColors=atom_colors)\n",
    "\n",
    "    ax.imshow(img)\n",
    "    ax.axis(\"off\")\n",
    "\n",
    "    cbar_ax = fig.add_axes([0.88, 0.15, 0.03, 0.7]) \n",
    "    cbar = plt.colorbar(sm, cax=cbar_ax)\n",
    "    cbar.set_ticks([]) \n",
    "    cbar.set_label(\"SHAP Contribution\", fontsize=12)  \n",
    "\n",
    "    plt.show()\n",
    "\n",
    "# draw_shap_with_narrow_colorbar(row)"
   ]
  },
  {
   "cell_type": "code",
   "execution_count": null,
   "id": "70d83d42-2558-4063-b0ec-ed3c5159405f",
   "metadata": {},
   "outputs": [],
   "source": [
    "for _, row in df.iterrows():\n",
    "    #if row['can_smiles'] == Chem.MolToSmiles(Chem.MolFromSmiles('CCCC1=CC=C(C=C1)O')):\n",
    "    #if row['can_smiles'] == Chem.MolToSmiles(Chem.MolFromSmiles('CCCC=C(CCCC)CCCCCCC')):\n",
    "    if row['can_smiles'] == Chem.MolToSmiles(Chem.MolFromSmiles('CCCCCCCC(=O)OCCCC')):\n",
    "    #if row['can_smiles'] == Chem.MolToSmiles(Chem.MolFromSmiles('CC(C)CCOC(=O)C(C)O')):\n",
    "    #if row['can_smiles'] == Chem.MolToSmiles(Chem.MolFromSmiles('CCCCCCCCCCCCCC(=O)OCC')):\n",
    "        display(draw_shap_with_narrow_colorbar(row))\n",
    "        print(row['Canonical_SMILES'])\n",
    "        break"
   ]
  },
  {
   "cell_type": "code",
   "execution_count": null,
   "id": "995a5124-2073-4a90-b509-09d3fa6a9b77",
   "metadata": {},
   "outputs": [],
   "source": []
  }
 ],
 "metadata": {
  "kernelspec": {
   "display_name": "Python 3 (ipykernel)",
   "language": "python",
   "name": "python3"
  },
  "language_info": {
   "codemirror_mode": {
    "name": "ipython",
    "version": 3
   },
   "file_extension": ".py",
   "mimetype": "text/x-python",
   "name": "python",
   "nbconvert_exporter": "python",
   "pygments_lexer": "ipython3",
   "version": "3.8.0"
  }
 },
 "nbformat": 4,
 "nbformat_minor": 5
}
