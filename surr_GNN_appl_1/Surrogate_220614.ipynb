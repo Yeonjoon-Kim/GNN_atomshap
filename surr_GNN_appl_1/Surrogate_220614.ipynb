{
 "cells": [
  {
   "cell_type": "code",
   "execution_count": 1,
   "id": "60591c9d-22f1-4984-8e42-18f074c82243",
   "metadata": {},
   "outputs": [],
   "source": [
    "import pickle\n",
    "import pandas as pd\n",
    "\n",
    "import tensorflow as tf\n",
    "from tensorflow.keras import layers\n",
    "import numpy as np\n",
    "from rdkit import Chem\n",
    "\n",
    "import shap\n",
    "shap.explainers._deep.deep_tf.op_handlers['AddV2'] = shap.explainers._deep.deep_tf.passthrough\n",
    "\n",
    "from sklearn.linear_model import LinearRegression\n",
    "from sklearn.metrics import r2_score\n",
    "\n",
    "#from tensorflow.compat.v1.keras.backend import get_session\n",
    "#tf.compat.v1.disable_v2_behavior()\n",
    "#tf.compat.v1.enable_eager_execution()"
   ]
  },
  {
   "cell_type": "code",
   "execution_count": 2,
   "id": "c9620b98-0eed-4eb5-8246-73cb1a410f83",
   "metadata": {},
   "outputs": [],
   "source": [
    "def shap_CN(num_atoms_of_interest):\n",
    "    df = pd.read_csv('molecules_to_predict.csv')\n",
    "    df['total_atoms'] = [ Chem.MolFromSmiles(smi).GetNumHeavyAtoms() for smi in df.Canonical_SMILES]\n",
    "\n",
    "    with open('weights_last_layer.pkl','rb') as f:\n",
    "        #CN_readout, norelu, relu\n",
    "        w1, w2, w3 = pickle.load(f)\n",
    "\n",
    "    with open('feat_vectors_for_shap.pkl','rb') as f:\n",
    "        af_pkl, gf_pkl = pickle.load(f)\n",
    "\n",
    "    indices_of_interest = df[ df['total_atoms'] == num_atoms_of_interest ].index\n",
    "    af_pkl = af_pkl[indices_of_interest][:, 0:num_atoms_of_interest]\n",
    "    gf_pkl = gf_pkl[indices_of_interest]        \n",
    "    df = df[ df['total_atoms'] == num_atoms_of_interest ]\n",
    "    \n",
    "    #af_input = layers.Input(shape=[num_atoms_of_interest,64], dtype=tf.float32, name='af')\n",
    "    af_input = layers.Input(shape=[64], dtype=tf.float32, name='af')\n",
    "    gf_input = layers.Input(shape=[64], dtype=tf.float32, name='gf')\n",
    "\n",
    "    #af = layers.GlobalAveragePooling1D()(af_input)\n",
    "    af = layers.Dense(64, activation='relu', name = 'denserelu')(af_input)\n",
    "    af = layers.Dense(64, name = 'dense')(af)\n",
    "    gf = layers.Add()([gf_input, af])\n",
    "    prediction = layers.Dense(1, name = 'dense_final')(gf)\n",
    "    \n",
    "    input_tensors = [af_input, gf_input]\n",
    "    model = tf.keras.Model(input_tensors, [prediction])\n",
    "    \n",
    "    model.layers[-1].set_weights( [w1[0].numpy(), w1[1].numpy()] )\n",
    "    model.layers[-3].set_weights( [w2[0].numpy(), w2[1].numpy()] )\n",
    "    model.layers[-5].set_weights( [w3[0].numpy(), w3[1].numpy()] )\n",
    "\n",
    "    af_pkl_avg = np.mean(af_pkl, axis = 1)\n",
    "    pred = model.predict([af_pkl_avg, gf_pkl]).squeeze()\n",
    "    \n",
    "    \n",
    "    \n",
    "    #### SHAP part ####\n",
    "    e = shap.DeepExplainer(model, [af_pkl_avg, gf_pkl])\n",
    "    shap_values = e.shap_values([af_pkl_avg, gf_pkl], check_additivity=False)\n",
    "    \n",
    "    af_shap, gf_shap = shap_values[0]\n",
    "    all_shap = af_shap + gf_shap\n",
    "    \n",
    "    atomwise_shap = np.zeros((len(df), num_atoms_of_interest, 64))\n",
    "    for i in range(len(af_pkl)): # af: (Num_atoms_in_a_molecule * 64)\n",
    "        for j in range(len(af_pkl[i])):  # Num_atoms_in_a_molecule\n",
    "            for k in range(len(af_pkl[i][j])): # 64\n",
    "                #atomwise_shap[i][j][k] = (af_pkl[i][j][k] / (num_atoms_of_interest * af_pkl_avg[i][k])) * af_shap[i][k]    \n",
    "                atomwise_shap[i][j][k] = (af_pkl[i][j][k] / (num_atoms_of_interest * af_pkl_avg[i][k])) * all_shap[i][k]                \n",
    "    atomwise_shap_not_normalized = np.sum(atomwise_shap, axis = 2)\n",
    "    \n",
    "    # to find the ax+b correlation between af_shap + gf_shap vs. predicted CN\n",
    "    af_shap_summed = np.sum(af_shap, axis = 1)\n",
    "    gf_shap_summed = np.sum(gf_shap, axis = 1)\n",
    "    \n",
    "    CN_shap = af_shap_summed + gf_shap_summed\n",
    "    \n",
    "    reg = LinearRegression().fit(CN_shap.reshape(-1,1), df.predicted)\n",
    "    \n",
    "    \n",
    "    a, b  = reg.coef_[0], reg.intercept_\n",
    "    atomwise_shap_normalized_to_CN = atomwise_shap_not_normalized + b / num_atoms_of_interest\n",
    "    \n",
    "    #atomwise_shap_normalized_to_CN = np.multiply(atomwise_shap_for_plot,\n",
    "    #                                              np.tile(\n",
    "    #                                                  np.expand_dims(\n",
    "    #                                                      np.divide(  np.array(df.predicted), \n",
    "    #                                                                  np.sum(atomwise_shap_for_plot, axis = -1)\n",
    "    #                                                               ), \n",
    "    #                                                   axis = 1),\n",
    "    #                                              num_atoms_of_interest))\n",
    "    #atom_shap_total = np.sum(atomwise_shap_normalized_to_CN, axis = -1)\n",
    "    #return df, atomwise_shap_normalized_to_CN, atom_shap_total\n",
    "\n",
    "    print(np.abs(pred -  df.predicted).mean(), np.abs(pred -  df.predicted).max())\n",
    "    print(num_atoms_of_interest, reg.coef_, reg.intercept_, reg.score(CN_shap.reshape(-1,1), df.predicted))\n",
    "    print('!!!!!!!!', np.abs(np.sum(atomwise_shap_normalized_to_CN, axis = -1) -  df.predicted).mean())\n",
    "    \n",
    "    return df, atomwise_shap_normalized_to_CN, np.sum(atomwise_shap_normalized_to_CN, axis = -1)"
   ]
  },
  {
   "cell_type": "code",
   "execution_count": 3,
   "id": "83cb8961-dbd2-464f-b11e-10b9dc0d07e1",
   "metadata": {},
   "outputs": [
    {
     "name": "stderr",
     "output_type": "stream",
     "text": [
      "Your TensorFlow version is newer than 2.4.0 and so graph support has been removed in eager mode and some static graphs may not be supported. See PR #1483 for discussion.\n",
      "`tf.keras.backend.set_learning_phase` is deprecated and will be removed after 2020-10-11. To update it, simply pass a True/False value to the `training` argument of the `__call__` method of your layer or model.\n"
     ]
    },
    {
     "name": "stdout",
     "output_type": "stream",
     "text": [
      "0.0008434871337890115 0.0008434871337890115\n",
      "2 [0.] 5.7731423 nan\n",
      "!!!!!!!! 0.0\n"
     ]
    },
    {
     "name": "stderr",
     "output_type": "stream",
     "text": [
      "R^2 score is not well-defined with less than two samples.\n",
      "Your TensorFlow version is newer than 2.4.0 and so graph support has been removed in eager mode and some static graphs may not be supported. See PR #1483 for discussion.\n",
      "`tf.keras.backend.set_learning_phase` is deprecated and will be removed after 2020-10-11. To update it, simply pass a True/False value to the `training` argument of the `__call__` method of your layer or model.\n"
     ]
    },
    {
     "name": "stdout",
     "output_type": "stream",
     "text": [
      "0.009726522448729735 0.01923083496093625\n",
      "3 [1.00028527] 42.0811243 1.0\n",
      "!!!!!!!! 0.009726079179281033\n"
     ]
    },
    {
     "name": "stderr",
     "output_type": "stream",
     "text": [
      "Your TensorFlow version is newer than 2.4.0 and so graph support has been removed in eager mode and some static graphs may not be supported. See PR #1483 for discussion.\n",
      "`tf.keras.backend.set_learning_phase` is deprecated and will be removed after 2020-10-11. To update it, simply pass a True/False value to the `training` argument of the `__call__` method of your layer or model.\n"
     ]
    },
    {
     "name": "stdout",
     "output_type": "stream",
     "text": [
      "0.002983397430419643 0.005127141479491115\n",
      "4 [0.99969968] 18.17969 1.0\n",
      "!!!!!!!! 0.0029827479979633864\n"
     ]
    },
    {
     "name": "stderr",
     "output_type": "stream",
     "text": [
      "Your TensorFlow version is newer than 2.4.0 and so graph support has been removed in eager mode and some static graphs may not be supported. See PR #1483 for discussion.\n",
      "`tf.keras.backend.set_learning_phase` is deprecated and will be removed after 2020-10-11. To update it, simply pass a True/False value to the `training` argument of the `__call__` method of your layer or model.\n"
     ]
    },
    {
     "name": "stdout",
     "output_type": "stream",
     "text": [
      "0.004950076697854091 0.05346704589842943\n",
      "5 [1.00024628] 27.354247196227096 0.9999999792710026\n",
      "!!!!!!!! 0.004933978577927225\n",
      "WARNING:tensorflow:5 out of the last 5 calls to <function Model.make_predict_function.<locals>.predict_function at 0x14a4a81220d0> triggered tf.function retracing. Tracing is expensive and the excessive number of tracings could be due to (1) creating @tf.function repeatedly in a loop, (2) passing tensors with different shapes, (3) passing Python objects instead of tensors. For (1), please define your @tf.function outside of the loop. For (2), @tf.function has experimental_relax_shapes=True option that relaxes argument shapes that can avoid unnecessary retracing. For (3), please refer to https://www.tensorflow.org/guide/function#controlling_retracing and https://www.tensorflow.org/api_docs/python/tf/function for  more details.\n"
     ]
    },
    {
     "name": "stderr",
     "output_type": "stream",
     "text": [
      "Your TensorFlow version is newer than 2.4.0 and so graph support has been removed in eager mode and some static graphs may not be supported. See PR #1483 for discussion.\n",
      "`tf.keras.backend.set_learning_phase` is deprecated and will be removed after 2020-10-11. To update it, simply pass a True/False value to the `training` argument of the `__call__` method of your layer or model.\n"
     ]
    },
    {
     "name": "stdout",
     "output_type": "stream",
     "text": [
      "0.0030459298118306797 0.011821678222656118\n",
      "6 [0.99985972] 23.27496679950116 0.9999999660697199\n",
      "!!!!!!!! 0.0032965861410246783\n",
      "WARNING:tensorflow:6 out of the last 6 calls to <function Model.make_predict_function.<locals>.predict_function at 0x14a4a8123940> triggered tf.function retracing. Tracing is expensive and the excessive number of tracings could be due to (1) creating @tf.function repeatedly in a loop, (2) passing tensors with different shapes, (3) passing Python objects instead of tensors. For (1), please define your @tf.function outside of the loop. For (2), @tf.function has experimental_relax_shapes=True option that relaxes argument shapes that can avoid unnecessary retracing. For (3), please refer to https://www.tensorflow.org/guide/function#controlling_retracing and https://www.tensorflow.org/api_docs/python/tf/function for  more details.\n"
     ]
    },
    {
     "name": "stderr",
     "output_type": "stream",
     "text": [
      "Your TensorFlow version is newer than 2.4.0 and so graph support has been removed in eager mode and some static graphs may not be supported. See PR #1483 for discussion.\n",
      "`tf.keras.backend.set_learning_phase` is deprecated and will be removed after 2020-10-11. To update it, simply pass a True/False value to the `training` argument of the `__call__` method of your layer or model.\n"
     ]
    },
    {
     "name": "stdout",
     "output_type": "stream",
     "text": [
      "0.00459112923261884 0.015876757812506526\n",
      "7 [0.99988369] 33.644540836493896 0.9999999680309728\n",
      "!!!!!!!! 0.004831893108183907\n",
      "WARNING:tensorflow:7 out of the last 8 calls to <function Model.make_predict_function.<locals>.predict_function at 0x14a4a8149670> triggered tf.function retracing. Tracing is expensive and the excessive number of tracings could be due to (1) creating @tf.function repeatedly in a loop, (2) passing tensors with different shapes, (3) passing Python objects instead of tensors. For (1), please define your @tf.function outside of the loop. For (2), @tf.function has experimental_relax_shapes=True option that relaxes argument shapes that can avoid unnecessary retracing. For (3), please refer to https://www.tensorflow.org/guide/function#controlling_retracing and https://www.tensorflow.org/api_docs/python/tf/function for  more details.\n"
     ]
    },
    {
     "name": "stderr",
     "output_type": "stream",
     "text": [
      "Your TensorFlow version is newer than 2.4.0 and so graph support has been removed in eager mode and some static graphs may not be supported. See PR #1483 for discussion.\n",
      "`tf.keras.backend.set_learning_phase` is deprecated and will be removed after 2020-10-11. To update it, simply pass a True/False value to the `training` argument of the `__call__` method of your layer or model.\n"
     ]
    },
    {
     "name": "stdout",
     "output_type": "stream",
     "text": [
      "0.003949937963632624 0.015024182128911434\n",
      "8 [0.99985411] 28.13013193513804 0.999999921540492\n",
      "!!!!!!!! 0.004096596096394755\n",
      "WARNING:tensorflow:8 out of the last 10 calls to <function Model.make_predict_function.<locals>.predict_function at 0x14a4a8084940> triggered tf.function retracing. Tracing is expensive and the excessive number of tracings could be due to (1) creating @tf.function repeatedly in a loop, (2) passing tensors with different shapes, (3) passing Python objects instead of tensors. For (1), please define your @tf.function outside of the loop. For (2), @tf.function has experimental_relax_shapes=True option that relaxes argument shapes that can avoid unnecessary retracing. For (3), please refer to https://www.tensorflow.org/guide/function#controlling_retracing and https://www.tensorflow.org/api_docs/python/tf/function for  more details.\n"
     ]
    },
    {
     "name": "stderr",
     "output_type": "stream",
     "text": [
      "Your TensorFlow version is newer than 2.4.0 and so graph support has been removed in eager mode and some static graphs may not be supported. See PR #1483 for discussion.\n",
      "`tf.keras.backend.set_learning_phase` is deprecated and will be removed after 2020-10-11. To update it, simply pass a True/False value to the `training` argument of the `__call__` method of your layer or model.\n"
     ]
    },
    {
     "name": "stdout",
     "output_type": "stream",
     "text": [
      "0.0048942202415184 0.03686183789062625\n",
      "9 [0.99981239] 31.777903163106476 0.9999999350644139\n",
      "!!!!!!!! 0.005465962061153067\n",
      "WARNING:tensorflow:8 out of the last 11 calls to <function Model.make_predict_function.<locals>.predict_function at 0x14a4a8123dc0> triggered tf.function retracing. Tracing is expensive and the excessive number of tracings could be due to (1) creating @tf.function repeatedly in a loop, (2) passing tensors with different shapes, (3) passing Python objects instead of tensors. For (1), please define your @tf.function outside of the loop. For (2), @tf.function has experimental_relax_shapes=True option that relaxes argument shapes that can avoid unnecessary retracing. For (3), please refer to https://www.tensorflow.org/guide/function#controlling_retracing and https://www.tensorflow.org/api_docs/python/tf/function for  more details.\n"
     ]
    },
    {
     "name": "stderr",
     "output_type": "stream",
     "text": [
      "Your TensorFlow version is newer than 2.4.0 and so graph support has been removed in eager mode and some static graphs may not be supported. See PR #1483 for discussion.\n",
      "`tf.keras.backend.set_learning_phase` is deprecated and will be removed after 2020-10-11. To update it, simply pass a True/False value to the `training` argument of the `__call__` method of your layer or model.\n"
     ]
    },
    {
     "name": "stdout",
     "output_type": "stream",
     "text": [
      "0.0034271920647332087 0.014385192382810885\n",
      "10 [0.99994023] 30.35080911247819 0.9999999635182278\n",
      "!!!!!!!! 0.0031739327377590856\n",
      "WARNING:tensorflow:7 out of the last 11 calls to <function Model.make_predict_function.<locals>.predict_function at 0x14a4a81233a0> triggered tf.function retracing. Tracing is expensive and the excessive number of tracings could be due to (1) creating @tf.function repeatedly in a loop, (2) passing tensors with different shapes, (3) passing Python objects instead of tensors. For (1), please define your @tf.function outside of the loop. For (2), @tf.function has experimental_relax_shapes=True option that relaxes argument shapes that can avoid unnecessary retracing. For (3), please refer to https://www.tensorflow.org/guide/function#controlling_retracing and https://www.tensorflow.org/api_docs/python/tf/function for  more details.\n"
     ]
    },
    {
     "name": "stderr",
     "output_type": "stream",
     "text": [
      "Your TensorFlow version is newer than 2.4.0 and so graph support has been removed in eager mode and some static graphs may not be supported. See PR #1483 for discussion.\n",
      "`tf.keras.backend.set_learning_phase` is deprecated and will be removed after 2020-10-11. To update it, simply pass a True/False value to the `training` argument of the `__call__` method of your layer or model.\n"
     ]
    },
    {
     "name": "stdout",
     "output_type": "stream",
     "text": [
      "0.004779883655624432 0.034048298339840244\n",
      "11 [0.99987157] 38.9348068504692 0.9999999281875971\n",
      "!!!!!!!! 0.005638719288596213\n",
      "WARNING:tensorflow:6 out of the last 11 calls to <function Model.make_predict_function.<locals>.predict_function at 0x14a4a8122700> triggered tf.function retracing. Tracing is expensive and the excessive number of tracings could be due to (1) creating @tf.function repeatedly in a loop, (2) passing tensors with different shapes, (3) passing Python objects instead of tensors. For (1), please define your @tf.function outside of the loop. For (2), @tf.function has experimental_relax_shapes=True option that relaxes argument shapes that can avoid unnecessary retracing. For (3), please refer to https://www.tensorflow.org/guide/function#controlling_retracing and https://www.tensorflow.org/api_docs/python/tf/function for  more details.\n"
     ]
    },
    {
     "name": "stderr",
     "output_type": "stream",
     "text": [
      "Your TensorFlow version is newer than 2.4.0 and so graph support has been removed in eager mode and some static graphs may not be supported. See PR #1483 for discussion.\n",
      "`tf.keras.backend.set_learning_phase` is deprecated and will be removed after 2020-10-11. To update it, simply pass a True/False value to the `training` argument of the `__call__` method of your layer or model.\n"
     ]
    },
    {
     "name": "stdout",
     "output_type": "stream",
     "text": [
      "0.004535489659489242 0.02051082031249507\n",
      "12 [0.99984518] 38.34665883600336 0.9999999532139641\n",
      "!!!!!!!! 0.00456620841694615\n",
      "WARNING:tensorflow:6 out of the last 11 calls to <function Model.make_predict_function.<locals>.predict_function at 0x14a4a8149160> triggered tf.function retracing. Tracing is expensive and the excessive number of tracings could be due to (1) creating @tf.function repeatedly in a loop, (2) passing tensors with different shapes, (3) passing Python objects instead of tensors. For (1), please define your @tf.function outside of the loop. For (2), @tf.function has experimental_relax_shapes=True option that relaxes argument shapes that can avoid unnecessary retracing. For (3), please refer to https://www.tensorflow.org/guide/function#controlling_retracing and https://www.tensorflow.org/api_docs/python/tf/function for  more details.\n"
     ]
    },
    {
     "name": "stderr",
     "output_type": "stream",
     "text": [
      "Your TensorFlow version is newer than 2.4.0 and so graph support has been removed in eager mode and some static graphs may not be supported. See PR #1483 for discussion.\n",
      "`tf.keras.backend.set_learning_phase` is deprecated and will be removed after 2020-10-11. To update it, simply pass a True/False value to the `training` argument of the `__call__` method of your layer or model.\n"
     ]
    },
    {
     "name": "stdout",
     "output_type": "stream",
     "text": [
      "0.0058990143535149996 0.023618986816401843\n",
      "13 [1.00002975] 55.25125998311952 0.9999999432098984\n",
      "!!!!!!!! 0.005528596301255426\n",
      "WARNING:tensorflow:7 out of the last 12 calls to <function Model.make_predict_function.<locals>.predict_function at 0x14a4a81668b0> triggered tf.function retracing. Tracing is expensive and the excessive number of tracings could be due to (1) creating @tf.function repeatedly in a loop, (2) passing tensors with different shapes, (3) passing Python objects instead of tensors. For (1), please define your @tf.function outside of the loop. For (2), @tf.function has experimental_relax_shapes=True option that relaxes argument shapes that can avoid unnecessary retracing. For (3), please refer to https://www.tensorflow.org/guide/function#controlling_retracing and https://www.tensorflow.org/api_docs/python/tf/function for  more details.\n"
     ]
    },
    {
     "name": "stderr",
     "output_type": "stream",
     "text": [
      "Your TensorFlow version is newer than 2.4.0 and so graph support has been removed in eager mode and some static graphs may not be supported. See PR #1483 for discussion.\n",
      "`tf.keras.backend.set_learning_phase` is deprecated and will be removed after 2020-10-11. To update it, simply pass a True/False value to the `training` argument of the `__call__` method of your layer or model.\n"
     ]
    },
    {
     "name": "stdout",
     "output_type": "stream",
     "text": [
      "0.004066632253400413 0.013801186523437536\n",
      "14 [0.99994293] 37.378306884188376 0.9999999423797121\n",
      "!!!!!!!! 0.00435115553381279\n",
      "WARNING:tensorflow:7 out of the last 12 calls to <function Model.make_predict_function.<locals>.predict_function at 0x14a4a8123790> triggered tf.function retracing. Tracing is expensive and the excessive number of tracings could be due to (1) creating @tf.function repeatedly in a loop, (2) passing tensors with different shapes, (3) passing Python objects instead of tensors. For (1), please define your @tf.function outside of the loop. For (2), @tf.function has experimental_relax_shapes=True option that relaxes argument shapes that can avoid unnecessary retracing. For (3), please refer to https://www.tensorflow.org/guide/function#controlling_retracing and https://www.tensorflow.org/api_docs/python/tf/function for  more details.\n"
     ]
    },
    {
     "name": "stderr",
     "output_type": "stream",
     "text": [
      "Your TensorFlow version is newer than 2.4.0 and so graph support has been removed in eager mode and some static graphs may not be supported. See PR #1483 for discussion.\n",
      "`tf.keras.backend.set_learning_phase` is deprecated and will be removed after 2020-10-11. To update it, simply pass a True/False value to the `training` argument of the `__call__` method of your layer or model.\n"
     ]
    },
    {
     "name": "stdout",
     "output_type": "stream",
     "text": [
      "0.005326462550471611 0.027270595703129175\n",
      "15 [1.0000038] 43.289654527043865 0.9999999069816297\n",
      "!!!!!!!! 0.004693152354953993\n",
      "WARNING:tensorflow:7 out of the last 11 calls to <function Model.make_predict_function.<locals>.predict_function at 0x14a3d01d2940> triggered tf.function retracing. Tracing is expensive and the excessive number of tracings could be due to (1) creating @tf.function repeatedly in a loop, (2) passing tensors with different shapes, (3) passing Python objects instead of tensors. For (1), please define your @tf.function outside of the loop. For (2), @tf.function has experimental_relax_shapes=True option that relaxes argument shapes that can avoid unnecessary retracing. For (3), please refer to https://www.tensorflow.org/guide/function#controlling_retracing and https://www.tensorflow.org/api_docs/python/tf/function for  more details.\n"
     ]
    },
    {
     "name": "stderr",
     "output_type": "stream",
     "text": [
      "Your TensorFlow version is newer than 2.4.0 and so graph support has been removed in eager mode and some static graphs may not be supported. See PR #1483 for discussion.\n",
      "`tf.keras.backend.set_learning_phase` is deprecated and will be removed after 2020-10-11. To update it, simply pass a True/False value to the `training` argument of the `__call__` method of your layer or model.\n"
     ]
    },
    {
     "name": "stdout",
     "output_type": "stream",
     "text": [
      "0.004389702229499276 0.012210479736324942\n",
      "16 [0.99997615] 42.12954260707132 0.9999999645847715\n",
      "!!!!!!!! 0.0034165943514464503\n",
      "WARNING:tensorflow:8 out of the last 12 calls to <function Model.make_predict_function.<locals>.predict_function at 0x14a4a8166ca0> triggered tf.function retracing. Tracing is expensive and the excessive number of tracings could be due to (1) creating @tf.function repeatedly in a loop, (2) passing tensors with different shapes, (3) passing Python objects instead of tensors. For (1), please define your @tf.function outside of the loop. For (2), @tf.function has experimental_relax_shapes=True option that relaxes argument shapes that can avoid unnecessary retracing. For (3), please refer to https://www.tensorflow.org/guide/function#controlling_retracing and https://www.tensorflow.org/api_docs/python/tf/function for  more details.\n"
     ]
    },
    {
     "name": "stderr",
     "output_type": "stream",
     "text": [
      "Your TensorFlow version is newer than 2.4.0 and so graph support has been removed in eager mode and some static graphs may not be supported. See PR #1483 for discussion.\n",
      "`tf.keras.backend.set_learning_phase` is deprecated and will be removed after 2020-10-11. To update it, simply pass a True/False value to the `training` argument of the `__call__` method of your layer or model.\n"
     ]
    },
    {
     "name": "stdout",
     "output_type": "stream",
     "text": [
      "0.006321411877441226 0.01509881249999978\n",
      "17 [1.00001913] 60.021027582178384 0.9999999311753793\n",
      "!!!!!!!! 0.006050449510367291\n",
      "WARNING:tensorflow:8 out of the last 11 calls to <function Model.make_predict_function.<locals>.predict_function at 0x14a4a8122700> triggered tf.function retracing. Tracing is expensive and the excessive number of tracings could be due to (1) creating @tf.function repeatedly in a loop, (2) passing tensors with different shapes, (3) passing Python objects instead of tensors. For (1), please define your @tf.function outside of the loop. For (2), @tf.function has experimental_relax_shapes=True option that relaxes argument shapes that can avoid unnecessary retracing. For (3), please refer to https://www.tensorflow.org/guide/function#controlling_retracing and https://www.tensorflow.org/api_docs/python/tf/function for  more details.\n"
     ]
    },
    {
     "name": "stderr",
     "output_type": "stream",
     "text": [
      "Your TensorFlow version is newer than 2.4.0 and so graph support has been removed in eager mode and some static graphs may not be supported. See PR #1483 for discussion.\n",
      "`tf.keras.backend.set_learning_phase` is deprecated and will be removed after 2020-10-11. To update it, simply pass a True/False value to the `training` argument of the `__call__` method of your layer or model.\n"
     ]
    },
    {
     "name": "stdout",
     "output_type": "stream",
     "text": [
      "0.00585603683268244 0.016356196289066816\n",
      "18 [1.00007015] 50.24173214072469 0.9999999250263282\n",
      "!!!!!!!! 0.0053175385009160085\n",
      "WARNING:tensorflow:9 out of the last 12 calls to <function Model.make_predict_function.<locals>.predict_function at 0x14a4a8166f70> triggered tf.function retracing. Tracing is expensive and the excessive number of tracings could be due to (1) creating @tf.function repeatedly in a loop, (2) passing tensors with different shapes, (3) passing Python objects instead of tensors. For (1), please define your @tf.function outside of the loop. For (2), @tf.function has experimental_relax_shapes=True option that relaxes argument shapes that can avoid unnecessary retracing. For (3), please refer to https://www.tensorflow.org/guide/function#controlling_retracing and https://www.tensorflow.org/api_docs/python/tf/function for  more details.\n"
     ]
    },
    {
     "name": "stderr",
     "output_type": "stream",
     "text": [
      "Your TensorFlow version is newer than 2.4.0 and so graph support has been removed in eager mode and some static graphs may not be supported. See PR #1483 for discussion.\n",
      "`tf.keras.backend.set_learning_phase` is deprecated and will be removed after 2020-10-11. To update it, simply pass a True/False value to the `training` argument of the `__call__` method of your layer or model.\n"
     ]
    },
    {
     "name": "stdout",
     "output_type": "stream",
     "text": [
      "0.004140484586589584 0.011563073730471274\n",
      "19 [0.99989934] 61.01599232180356 0.999999967782997\n",
      "!!!!!!!! 0.004104681739476727\n",
      "WARNING:tensorflow:9 out of the last 11 calls to <function Model.make_predict_function.<locals>.predict_function at 0x14a4500371f0> triggered tf.function retracing. Tracing is expensive and the excessive number of tracings could be due to (1) creating @tf.function repeatedly in a loop, (2) passing tensors with different shapes, (3) passing Python objects instead of tensors. For (1), please define your @tf.function outside of the loop. For (2), @tf.function has experimental_relax_shapes=True option that relaxes argument shapes that can avoid unnecessary retracing. For (3), please refer to https://www.tensorflow.org/guide/function#controlling_retracing and https://www.tensorflow.org/api_docs/python/tf/function for  more details.\n"
     ]
    },
    {
     "name": "stderr",
     "output_type": "stream",
     "text": [
      "Your TensorFlow version is newer than 2.4.0 and so graph support has been removed in eager mode and some static graphs may not be supported. See PR #1483 for discussion.\n",
      "`tf.keras.backend.set_learning_phase` is deprecated and will be removed after 2020-10-11. To update it, simply pass a True/False value to the `training` argument of the `__call__` method of your layer or model.\n"
     ]
    },
    {
     "name": "stdout",
     "output_type": "stream",
     "text": [
      "0.005194246057127483 0.012427519531243547\n",
      "20 [0.99988027] 53.04110690384213 0.9999999588532387\n",
      "!!!!!!!! 0.005020793837609094\n",
      "WARNING:tensorflow:10 out of the last 12 calls to <function Model.make_predict_function.<locals>.predict_function at 0x14a3d019a0d0> triggered tf.function retracing. Tracing is expensive and the excessive number of tracings could be due to (1) creating @tf.function repeatedly in a loop, (2) passing tensors with different shapes, (3) passing Python objects instead of tensors. For (1), please define your @tf.function outside of the loop. For (2), @tf.function has experimental_relax_shapes=True option that relaxes argument shapes that can avoid unnecessary retracing. For (3), please refer to https://www.tensorflow.org/guide/function#controlling_retracing and https://www.tensorflow.org/api_docs/python/tf/function for  more details.\n"
     ]
    },
    {
     "name": "stderr",
     "output_type": "stream",
     "text": [
      "Your TensorFlow version is newer than 2.4.0 and so graph support has been removed in eager mode and some static graphs may not be supported. See PR #1483 for discussion.\n",
      "`tf.keras.backend.set_learning_phase` is deprecated and will be removed after 2020-10-11. To update it, simply pass a True/False value to the `training` argument of the `__call__` method of your layer or model.\n"
     ]
    },
    {
     "name": "stdout",
     "output_type": "stream",
     "text": [
      "0.006001126619651172 0.02191241455078341\n",
      "21 [0.99989535] 50.624091979913395 0.999999938236187\n",
      "!!!!!!!! 0.004389376842722034\n",
      "WARNING:tensorflow:10 out of the last 11 calls to <function Model.make_predict_function.<locals>.predict_function at 0x14a4a8122dc0> triggered tf.function retracing. Tracing is expensive and the excessive number of tracings could be due to (1) creating @tf.function repeatedly in a loop, (2) passing tensors with different shapes, (3) passing Python objects instead of tensors. For (1), please define your @tf.function outside of the loop. For (2), @tf.function has experimental_relax_shapes=True option that relaxes argument shapes that can avoid unnecessary retracing. For (3), please refer to https://www.tensorflow.org/guide/function#controlling_retracing and https://www.tensorflow.org/api_docs/python/tf/function for  more details.\n"
     ]
    },
    {
     "name": "stderr",
     "output_type": "stream",
     "text": [
      "Your TensorFlow version is newer than 2.4.0 and so graph support has been removed in eager mode and some static graphs may not be supported. See PR #1483 for discussion.\n",
      "`tf.keras.backend.set_learning_phase` is deprecated and will be removed after 2020-10-11. To update it, simply pass a True/False value to the `training` argument of the `__call__` method of your layer or model.\n"
     ]
    },
    {
     "name": "stdout",
     "output_type": "stream",
     "text": [
      "0.005350920453752041 0.018863620605465314\n",
      "22 [0.99998957] 57.380064933491944 0.9999999264101781\n",
      "!!!!!!!! 0.0052696293068885255\n",
      "WARNING:tensorflow:10 out of the last 11 calls to <function Model.make_predict_function.<locals>.predict_function at 0x14a3d016a0d0> triggered tf.function retracing. Tracing is expensive and the excessive number of tracings could be due to (1) creating @tf.function repeatedly in a loop, (2) passing tensors with different shapes, (3) passing Python objects instead of tensors. For (1), please define your @tf.function outside of the loop. For (2), @tf.function has experimental_relax_shapes=True option that relaxes argument shapes that can avoid unnecessary retracing. For (3), please refer to https://www.tensorflow.org/guide/function#controlling_retracing and https://www.tensorflow.org/api_docs/python/tf/function for  more details.\n"
     ]
    },
    {
     "name": "stderr",
     "output_type": "stream",
     "text": [
      "Your TensorFlow version is newer than 2.4.0 and so graph support has been removed in eager mode and some static graphs may not be supported. See PR #1483 for discussion.\n",
      "`tf.keras.backend.set_learning_phase` is deprecated and will be removed after 2020-10-11. To update it, simply pass a True/False value to the `training` argument of the `__call__` method of your layer or model.\n"
     ]
    },
    {
     "name": "stdout",
     "output_type": "stream",
     "text": [
      "0.007508140274046005 0.02279570190430036\n",
      "23 [0.99990792] 54.83328757635941 0.9999999089056879\n",
      "!!!!!!!! 0.006308390262657282\n",
      "WARNING:tensorflow:11 out of the last 12 calls to <function Model.make_predict_function.<locals>.predict_function at 0x14a450037040> triggered tf.function retracing. Tracing is expensive and the excessive number of tracings could be due to (1) creating @tf.function repeatedly in a loop, (2) passing tensors with different shapes, (3) passing Python objects instead of tensors. For (1), please define your @tf.function outside of the loop. For (2), @tf.function has experimental_relax_shapes=True option that relaxes argument shapes that can avoid unnecessary retracing. For (3), please refer to https://www.tensorflow.org/guide/function#controlling_retracing and https://www.tensorflow.org/api_docs/python/tf/function for  more details.\n"
     ]
    },
    {
     "name": "stderr",
     "output_type": "stream",
     "text": [
      "Your TensorFlow version is newer than 2.4.0 and so graph support has been removed in eager mode and some static graphs may not be supported. See PR #1483 for discussion.\n",
      "`tf.keras.backend.set_learning_phase` is deprecated and will be removed after 2020-10-11. To update it, simply pass a True/False value to the `training` argument of the `__call__` method of your layer or model.\n"
     ]
    },
    {
     "name": "stdout",
     "output_type": "stream",
     "text": [
      "0.010115270634969123 0.02451609374999464\n",
      "24 [0.99995487] 60.64065761317423 0.9999996718283741\n",
      "!!!!!!!! 0.008547698384396321\n",
      "WARNING:tensorflow:11 out of the last 11 calls to <function Model.make_predict_function.<locals>.predict_function at 0x14a4a80843a0> triggered tf.function retracing. Tracing is expensive and the excessive number of tracings could be due to (1) creating @tf.function repeatedly in a loop, (2) passing tensors with different shapes, (3) passing Python objects instead of tensors. For (1), please define your @tf.function outside of the loop. For (2), @tf.function has experimental_relax_shapes=True option that relaxes argument shapes that can avoid unnecessary retracing. For (3), please refer to https://www.tensorflow.org/guide/function#controlling_retracing and https://www.tensorflow.org/api_docs/python/tf/function for  more details.\n"
     ]
    },
    {
     "name": "stderr",
     "output_type": "stream",
     "text": [
      "Your TensorFlow version is newer than 2.4.0 and so graph support has been removed in eager mode and some static graphs may not be supported. See PR #1483 for discussion.\n",
      "`tf.keras.backend.set_learning_phase` is deprecated and will be removed after 2020-10-11. To update it, simply pass a True/False value to the `training` argument of the `__call__` method of your layer or model.\n"
     ]
    },
    {
     "name": "stdout",
     "output_type": "stream",
     "text": [
      "0.009112288994682811 0.02431492431639981\n",
      "25 [0.99982] 51.54168648895227 0.9999998689582568\n",
      "!!!!!!!! 0.0085296980530699\n",
      "WARNING:tensorflow:11 out of the last 11 calls to <function Model.make_predict_function.<locals>.predict_function at 0x14a4a8122ca0> triggered tf.function retracing. Tracing is expensive and the excessive number of tracings could be due to (1) creating @tf.function repeatedly in a loop, (2) passing tensors with different shapes, (3) passing Python objects instead of tensors. For (1), please define your @tf.function outside of the loop. For (2), @tf.function has experimental_relax_shapes=True option that relaxes argument shapes that can avoid unnecessary retracing. For (3), please refer to https://www.tensorflow.org/guide/function#controlling_retracing and https://www.tensorflow.org/api_docs/python/tf/function for  more details.\n"
     ]
    },
    {
     "name": "stderr",
     "output_type": "stream",
     "text": [
      "Your TensorFlow version is newer than 2.4.0 and so graph support has been removed in eager mode and some static graphs may not be supported. See PR #1483 for discussion.\n",
      "`tf.keras.backend.set_learning_phase` is deprecated and will be removed after 2020-10-11. To update it, simply pass a True/False value to the `training` argument of the `__call__` method of your layer or model.\n"
     ]
    },
    {
     "name": "stdout",
     "output_type": "stream",
     "text": [
      "0.011747656643339531 0.05417292968749621\n",
      "26 [0.9998467] 67.7871109242038 0.9999996089414511\n",
      "!!!!!!!! 0.01320852904877512\n",
      "WARNING:tensorflow:11 out of the last 11 calls to <function Model.make_predict_function.<locals>.predict_function at 0x14a3d00c3160> triggered tf.function retracing. Tracing is expensive and the excessive number of tracings could be due to (1) creating @tf.function repeatedly in a loop, (2) passing tensors with different shapes, (3) passing Python objects instead of tensors. For (1), please define your @tf.function outside of the loop. For (2), @tf.function has experimental_relax_shapes=True option that relaxes argument shapes that can avoid unnecessary retracing. For (3), please refer to https://www.tensorflow.org/guide/function#controlling_retracing and https://www.tensorflow.org/api_docs/python/tf/function for  more details.\n"
     ]
    },
    {
     "name": "stderr",
     "output_type": "stream",
     "text": [
      "Your TensorFlow version is newer than 2.4.0 and so graph support has been removed in eager mode and some static graphs may not be supported. See PR #1483 for discussion.\n",
      "`tf.keras.backend.set_learning_phase` is deprecated and will be removed after 2020-10-11. To update it, simply pass a True/False value to the `training` argument of the `__call__` method of your layer or model.\n"
     ]
    },
    {
     "name": "stdout",
     "output_type": "stream",
     "text": [
      "0.018528760937502397 0.03682083740234532\n",
      "28 [0.99956879] 93.09668127098182 0.9999996297782123\n",
      "!!!!!!!! 0.007311518774938008\n",
      "WARNING:tensorflow:11 out of the last 11 calls to <function Model.make_predict_function.<locals>.predict_function at 0x14a3d0035430> triggered tf.function retracing. Tracing is expensive and the excessive number of tracings could be due to (1) creating @tf.function repeatedly in a loop, (2) passing tensors with different shapes, (3) passing Python objects instead of tensors. For (1), please define your @tf.function outside of the loop. For (2), @tf.function has experimental_relax_shapes=True option that relaxes argument shapes that can avoid unnecessary retracing. For (3), please refer to https://www.tensorflow.org/guide/function#controlling_retracing and https://www.tensorflow.org/api_docs/python/tf/function for  more details.\n"
     ]
    },
    {
     "name": "stderr",
     "output_type": "stream",
     "text": [
      "Your TensorFlow version is newer than 2.4.0 and so graph support has been removed in eager mode and some static graphs may not be supported. See PR #1483 for discussion.\n",
      "`tf.keras.backend.set_learning_phase` is deprecated and will be removed after 2020-10-11. To update it, simply pass a True/False value to the `training` argument of the `__call__` method of your layer or model.\n"
     ]
    },
    {
     "name": "stdout",
     "output_type": "stream",
     "text": [
      "0.014988008789064367 0.02139308984375532\n",
      "30 [1.00016451] 91.50455848447237 0.999999922347425\n",
      "!!!!!!!! 0.0039056527958898357\n",
      "WARNING:tensorflow:11 out of the last 11 calls to <function Model.make_predict_function.<locals>.predict_function at 0x14a3d00c3160> triggered tf.function retracing. Tracing is expensive and the excessive number of tracings could be due to (1) creating @tf.function repeatedly in a loop, (2) passing tensors with different shapes, (3) passing Python objects instead of tensors. For (1), please define your @tf.function outside of the loop. For (2), @tf.function has experimental_relax_shapes=True option that relaxes argument shapes that can avoid unnecessary retracing. For (3), please refer to https://www.tensorflow.org/guide/function#controlling_retracing and https://www.tensorflow.org/api_docs/python/tf/function for  more details.\n"
     ]
    },
    {
     "name": "stderr",
     "output_type": "stream",
     "text": [
      "Your TensorFlow version is newer than 2.4.0 and so graph support has been removed in eager mode and some static graphs may not be supported. See PR #1483 for discussion.\n",
      "`tf.keras.backend.set_learning_phase` is deprecated and will be removed after 2020-10-11. To update it, simply pass a True/False value to the `training` argument of the `__call__` method of your layer or model.\n"
     ]
    },
    {
     "name": "stdout",
     "output_type": "stream",
     "text": [
      "0.00517529541015449 0.00517529541015449\n",
      "38 [0.] 83.95519 nan\n",
      "!!!!!!!! 2.842170943040401e-14\n"
     ]
    },
    {
     "name": "stderr",
     "output_type": "stream",
     "text": [
      "R^2 score is not well-defined with less than two samples.\n"
     ]
    },
    {
     "name": "stdout",
     "output_type": "stream",
     "text": [
      "WARNING:tensorflow:11 out of the last 11 calls to <function Model.make_predict_function.<locals>.predict_function at 0x14a4a8084040> triggered tf.function retracing. Tracing is expensive and the excessive number of tracings could be due to (1) creating @tf.function repeatedly in a loop, (2) passing tensors with different shapes, (3) passing Python objects instead of tensors. For (1), please define your @tf.function outside of the loop. For (2), @tf.function has experimental_relax_shapes=True option that relaxes argument shapes that can avoid unnecessary retracing. For (3), please refer to https://www.tensorflow.org/guide/function#controlling_retracing and https://www.tensorflow.org/api_docs/python/tf/function for  more details.\n"
     ]
    },
    {
     "name": "stderr",
     "output_type": "stream",
     "text": [
      "Your TensorFlow version is newer than 2.4.0 and so graph support has been removed in eager mode and some static graphs may not be supported. See PR #1483 for discussion.\n",
      "`tf.keras.backend.set_learning_phase` is deprecated and will be removed after 2020-10-11. To update it, simply pass a True/False value to the `training` argument of the `__call__` method of your layer or model.\n"
     ]
    },
    {
     "name": "stdout",
     "output_type": "stream",
     "text": [
      "0.006770610351559014 0.006770610351559014\n",
      "40 [0.] 60.775105 nan\n",
      "!!!!!!!! 7.105427357601002e-15\n"
     ]
    },
    {
     "name": "stderr",
     "output_type": "stream",
     "text": [
      "R^2 score is not well-defined with less than two samples.\n"
     ]
    },
    {
     "name": "stdout",
     "output_type": "stream",
     "text": [
      "WARNING:tensorflow:11 out of the last 11 calls to <function Model.make_predict_function.<locals>.predict_function at 0x14a4a8149670> triggered tf.function retracing. Tracing is expensive and the excessive number of tracings could be due to (1) creating @tf.function repeatedly in a loop, (2) passing tensors with different shapes, (3) passing Python objects instead of tensors. For (1), please define your @tf.function outside of the loop. For (2), @tf.function has experimental_relax_shapes=True option that relaxes argument shapes that can avoid unnecessary retracing. For (3), please refer to https://www.tensorflow.org/guide/function#controlling_retracing and https://www.tensorflow.org/api_docs/python/tf/function for  more details.\n"
     ]
    },
    {
     "name": "stderr",
     "output_type": "stream",
     "text": [
      "Your TensorFlow version is newer than 2.4.0 and so graph support has been removed in eager mode and some static graphs may not be supported. See PR #1483 for discussion.\n",
      "`tf.keras.backend.set_learning_phase` is deprecated and will be removed after 2020-10-11. To update it, simply pass a True/False value to the `training` argument of the `__call__` method of your layer or model.\n"
     ]
    },
    {
     "name": "stdout",
     "output_type": "stream",
     "text": [
      "WARNING:tensorflow:5 out of the last 12 calls to <function TFDeep.phi_symbolic.<locals>.grad_graph at 0x14a3d019a670> triggered tf.function retracing. Tracing is expensive and the excessive number of tracings could be due to (1) creating @tf.function repeatedly in a loop, (2) passing tensors with different shapes, (3) passing Python objects instead of tensors. For (1), please define your @tf.function outside of the loop. For (2), @tf.function has experimental_relax_shapes=True option that relaxes argument shapes that can avoid unnecessary retracing. For (3), please refer to https://www.tensorflow.org/guide/function#controlling_retracing and https://www.tensorflow.org/api_docs/python/tf/function for  more details.\n",
      "0.014035511108399845 0.020628586425786466\n",
      "42 [0.99973704] 67.469979 1.0\n",
      "!!!!!!!! 0.006592857339121849\n"
     ]
    }
   ],
   "source": [
    "df = pd.read_csv('molecules_to_predict.csv')\n",
    "df['total_atoms'] = [ Chem.MolFromSmiles(smi).GetNumHeavyAtoms() for smi in df.Canonical_SMILES]\n",
    "df_w_shap = pd.DataFrame(columns = list(df.columns) + ['atom_shap_total','atomwise_shap'])\n",
    "\n",
    "#for i in range(8,25):\n",
    "for i in range(2,43): #all atoms\n",
    "#for i in range(2,3): \n",
    "    if len(df[df['total_atoms']  == i]) == 0:\n",
    "        continue\n",
    "    df_sub, atomwise_shap, atom_shap_total = shap_CN(i)\n",
    "    df_sub['atomwise_shap'] = list(atomwise_shap)\n",
    "    df_sub['atom_shap_total'] = list(atom_shap_total)\n",
    "    df_w_shap = pd.concat([df_w_shap, df_sub])"
   ]
  },
  {
   "cell_type": "code",
   "execution_count": 4,
   "id": "c403701c-6890-4ffd-8798-0a3d6d7bfffe",
   "metadata": {},
   "outputs": [
    {
     "data": {
      "text/plain": [
       "'\\nimport matplotlib.pyplot as plt\\nimport matplotlib\\n\\nimport seaborn as sns\\nsns.set(context=\\'talk\\', style=\\'ticks\\',\\n        color_codes=True, rc={\\'legend.frameon\\': False})\\n%matplotlib inline\\n\\nmatplotlib.rcParams[\\'figure.dpi\\'] = 300\\n#plt.rcParams[\"font.family\"] = \\'Arial\\'\\n#plt.rcParams.update({\\'font.size\\': 24})\\n\\nplt.scatter(af_shap_summed + gf_shap_summed, df.predicted)\\n'"
      ]
     },
     "execution_count": 4,
     "metadata": {},
     "output_type": "execute_result"
    }
   ],
   "source": [
    "'''\n",
    "import matplotlib.pyplot as plt\n",
    "import matplotlib\n",
    "\n",
    "import seaborn as sns\n",
    "sns.set(context='talk', style='ticks',\n",
    "        color_codes=True, rc={'legend.frameon': False})\n",
    "%matplotlib inline\n",
    "\n",
    "matplotlib.rcParams['figure.dpi'] = 300\n",
    "#plt.rcParams[\"font.family\"] = 'Arial'\n",
    "#plt.rcParams.update({'font.size': 24})\n",
    "\n",
    "plt.scatter(af_shap_summed + gf_shap_summed, df.predicted)\n",
    "'''"
   ]
  },
  {
   "cell_type": "code",
   "execution_count": 5,
   "id": "0ba8842e-2357-4e52-9dbc-ad6ce0a327a1",
   "metadata": {},
   "outputs": [
    {
     "data": {
      "text/html": [
       "<div>\n",
       "<style scoped>\n",
       "    .dataframe tbody tr th:only-of-type {\n",
       "        vertical-align: middle;\n",
       "    }\n",
       "\n",
       "    .dataframe tbody tr th {\n",
       "        vertical-align: top;\n",
       "    }\n",
       "\n",
       "    .dataframe thead th {\n",
       "        text-align: right;\n",
       "    }\n",
       "</style>\n",
       "<table border=\"1\" class=\"dataframe\">\n",
       "  <thead>\n",
       "    <tr style=\"text-align: right;\">\n",
       "      <th></th>\n",
       "      <th>Canonical_SMILES</th>\n",
       "      <th>Device_tier</th>\n",
       "      <th>Train/Valid/Test</th>\n",
       "      <th>CN</th>\n",
       "      <th>predicted</th>\n",
       "      <th>glob_vector</th>\n",
       "      <th>total_atoms</th>\n",
       "      <th>atom_shap_total</th>\n",
       "      <th>atomwise_shap</th>\n",
       "    </tr>\n",
       "  </thead>\n",
       "  <tbody>\n",
       "    <tr>\n",
       "      <th>533</th>\n",
       "      <td>CO</td>\n",
       "      <td>1</td>\n",
       "      <td>Valid</td>\n",
       "      <td>6.10</td>\n",
       "      <td>5.773142</td>\n",
       "      <td>0.577515 2.314571 -0.284544 0.471034 1.244606 ...</td>\n",
       "      <td>2</td>\n",
       "      <td>5.773142</td>\n",
       "      <td>[2.88657115, 2.88657115]</td>\n",
       "    </tr>\n",
       "    <tr>\n",
       "      <th>213</th>\n",
       "      <td>CCO</td>\n",
       "      <td>1</td>\n",
       "      <td>Train</td>\n",
       "      <td>8.00</td>\n",
       "      <td>7.976499</td>\n",
       "      <td>0.568872 2.785593 -0.540729 -0.305534 0.827454...</td>\n",
       "      <td>3</td>\n",
       "      <td>7.986225</td>\n",
       "      <td>[4.397712684170854, -0.6515128485892792, 4.240...</td>\n",
       "    </tr>\n",
       "    <tr>\n",
       "      <th>371</th>\n",
       "      <td>COC</td>\n",
       "      <td>3</td>\n",
       "      <td>Train</td>\n",
       "      <td>67.00</td>\n",
       "      <td>76.185750</td>\n",
       "      <td>2.974701 19.654045 -12.175194 -6.312239 3.1758...</td>\n",
       "      <td>3</td>\n",
       "      <td>76.176024</td>\n",
       "      <td>[22.183926446684424, 31.808170912773832, 22.18...</td>\n",
       "    </tr>\n",
       "    <tr>\n",
       "      <th>344</th>\n",
       "      <td>CCCO</td>\n",
       "      <td>1</td>\n",
       "      <td>Train</td>\n",
       "      <td>8.20</td>\n",
       "      <td>8.250709</td>\n",
       "      <td>0.380596 2.478370 -0.743939 -0.695015 0.493383...</td>\n",
       "      <td>4</td>\n",
       "      <td>8.247726</td>\n",
       "      <td>[2.245984029826436, 0.44175407559303004, 2.384...</td>\n",
       "    </tr>\n",
       "    <tr>\n",
       "      <th>587</th>\n",
       "      <td>CCCC</td>\n",
       "      <td>1</td>\n",
       "      <td>Test</td>\n",
       "      <td>20.62</td>\n",
       "      <td>28.108671</td>\n",
       "      <td>1.248712 7.012758 -4.568620 -2.607537 1.467168...</td>\n",
       "      <td>4</td>\n",
       "      <td>28.111654</td>\n",
       "      <td>[6.360028955270834, 7.695797930115594, 7.69579...</td>\n",
       "    </tr>\n",
       "    <tr>\n",
       "      <th>...</th>\n",
       "      <td>...</td>\n",
       "      <td>...</td>\n",
       "      <td>...</td>\n",
       "      <td>...</td>\n",
       "      <td>...</td>\n",
       "      <td>...</td>\n",
       "      <td>...</td>\n",
       "      <td>...</td>\n",
       "      <td>...</td>\n",
       "    </tr>\n",
       "    <tr>\n",
       "      <th>558</th>\n",
       "      <td>CCCCCCCCOC(=O)CCCCCCCCC(=O)OCCCCCCCC</td>\n",
       "      <td>3</td>\n",
       "      <td>Valid</td>\n",
       "      <td>70.00</td>\n",
       "      <td>96.371620</td>\n",
       "      <td>5.207996 26.726585 -14.537582 -5.733907 4.9977...</td>\n",
       "      <td>30</td>\n",
       "      <td>96.366214</td>\n",
       "      <td>[3.205967626297348, 3.135653605606199, 3.24326...</td>\n",
       "    </tr>\n",
       "    <tr>\n",
       "      <th>44</th>\n",
       "      <td>CCCCCCCCCCCCCCCC(=O)OC.CCCCCCCCCCCCCCCC(=O)OC</td>\n",
       "      <td>1</td>\n",
       "      <td>Train</td>\n",
       "      <td>85.90</td>\n",
       "      <td>83.955190</td>\n",
       "      <td>4.558927 23.319794 -12.815701 -5.431929 4.2278...</td>\n",
       "      <td>38</td>\n",
       "      <td>83.955190</td>\n",
       "      <td>[2.209347105263158, 2.209347105263158, 2.20934...</td>\n",
       "    </tr>\n",
       "    <tr>\n",
       "      <th>297</th>\n",
       "      <td>CCCCCCCCCCCCCCCCCC(=O)O.CCCCCCCCCCCCCCCCCC(=O)O</td>\n",
       "      <td>1</td>\n",
       "      <td>Train</td>\n",
       "      <td>61.70</td>\n",
       "      <td>60.775105</td>\n",
       "      <td>3.533552 16.269886 -9.057496 -5.823801 3.54190...</td>\n",
       "      <td>40</td>\n",
       "      <td>60.775105</td>\n",
       "      <td>[1.5193776250000002, 1.5193776250000002, 1.519...</td>\n",
       "    </tr>\n",
       "    <tr>\n",
       "      <th>294</th>\n",
       "      <td>CCCCC/C=C\\C/C=C\\CCCCCCCC(=O)OC.CCCCC/C=C\\C/C=C...</td>\n",
       "      <td>1</td>\n",
       "      <td>Train</td>\n",
       "      <td>43.90</td>\n",
       "      <td>42.405098</td>\n",
       "      <td>1.464636 10.907668 -7.314800 -2.568479 0.80509...</td>\n",
       "      <td>42</td>\n",
       "      <td>42.398506</td>\n",
       "      <td>[1.2347154124631423, 1.1024885877352995, 0.712...</td>\n",
       "    </tr>\n",
       "    <tr>\n",
       "      <th>546</th>\n",
       "      <td>CCCCCCCCCCCCCCCCCC(=O)OC.CCCCCCCCCCCCCCCCCC(=O)OC</td>\n",
       "      <td>1</td>\n",
       "      <td>Valid</td>\n",
       "      <td>95.60</td>\n",
       "      <td>92.534860</td>\n",
       "      <td>5.247174 25.768711 -13.904164 -5.655550 4.5164...</td>\n",
       "      <td>42</td>\n",
       "      <td>92.541453</td>\n",
       "      <td>[2.0288778386055766, 2.4901578469069254, 2.335...</td>\n",
       "    </tr>\n",
       "  </tbody>\n",
       "</table>\n",
       "<p>630 rows × 9 columns</p>\n",
       "</div>"
      ],
      "text/plain": [
       "                                      Canonical_SMILES Device_tier  \\\n",
       "533                                                 CO           1   \n",
       "213                                                CCO           1   \n",
       "371                                                COC           3   \n",
       "344                                               CCCO           1   \n",
       "587                                               CCCC           1   \n",
       "..                                                 ...         ...   \n",
       "558               CCCCCCCCOC(=O)CCCCCCCCC(=O)OCCCCCCCC           3   \n",
       "44       CCCCCCCCCCCCCCCC(=O)OC.CCCCCCCCCCCCCCCC(=O)OC           1   \n",
       "297    CCCCCCCCCCCCCCCCCC(=O)O.CCCCCCCCCCCCCCCCCC(=O)O           1   \n",
       "294  CCCCC/C=C\\C/C=C\\CCCCCCCC(=O)OC.CCCCC/C=C\\C/C=C...           1   \n",
       "546  CCCCCCCCCCCCCCCCCC(=O)OC.CCCCCCCCCCCCCCCCCC(=O)OC           1   \n",
       "\n",
       "    Train/Valid/Test     CN  predicted  \\\n",
       "533            Valid   6.10   5.773142   \n",
       "213            Train   8.00   7.976499   \n",
       "371            Train  67.00  76.185750   \n",
       "344            Train   8.20   8.250709   \n",
       "587             Test  20.62  28.108671   \n",
       "..               ...    ...        ...   \n",
       "558            Valid  70.00  96.371620   \n",
       "44             Train  85.90  83.955190   \n",
       "297            Train  61.70  60.775105   \n",
       "294            Train  43.90  42.405098   \n",
       "546            Valid  95.60  92.534860   \n",
       "\n",
       "                                           glob_vector total_atoms  \\\n",
       "533  0.577515 2.314571 -0.284544 0.471034 1.244606 ...           2   \n",
       "213  0.568872 2.785593 -0.540729 -0.305534 0.827454...           3   \n",
       "371  2.974701 19.654045 -12.175194 -6.312239 3.1758...           3   \n",
       "344  0.380596 2.478370 -0.743939 -0.695015 0.493383...           4   \n",
       "587  1.248712 7.012758 -4.568620 -2.607537 1.467168...           4   \n",
       "..                                                 ...         ...   \n",
       "558  5.207996 26.726585 -14.537582 -5.733907 4.9977...          30   \n",
       "44   4.558927 23.319794 -12.815701 -5.431929 4.2278...          38   \n",
       "297  3.533552 16.269886 -9.057496 -5.823801 3.54190...          40   \n",
       "294  1.464636 10.907668 -7.314800 -2.568479 0.80509...          42   \n",
       "546  5.247174 25.768711 -13.904164 -5.655550 4.5164...          42   \n",
       "\n",
       "     atom_shap_total                                      atomwise_shap  \n",
       "533         5.773142                           [2.88657115, 2.88657115]  \n",
       "213         7.986225  [4.397712684170854, -0.6515128485892792, 4.240...  \n",
       "371        76.176024  [22.183926446684424, 31.808170912773832, 22.18...  \n",
       "344         8.247726  [2.245984029826436, 0.44175407559303004, 2.384...  \n",
       "587        28.111654  [6.360028955270834, 7.695797930115594, 7.69579...  \n",
       "..               ...                                                ...  \n",
       "558        96.366214  [3.205967626297348, 3.135653605606199, 3.24326...  \n",
       "44         83.955190  [2.209347105263158, 2.209347105263158, 2.20934...  \n",
       "297        60.775105  [1.5193776250000002, 1.5193776250000002, 1.519...  \n",
       "294        42.398506  [1.2347154124631423, 1.1024885877352995, 0.712...  \n",
       "546        92.541453  [2.0288778386055766, 2.4901578469069254, 2.335...  \n",
       "\n",
       "[630 rows x 9 columns]"
      ]
     },
     "execution_count": 5,
     "metadata": {},
     "output_type": "execute_result"
    }
   ],
   "source": [
    "df_w_shap"
   ]
  },
  {
   "cell_type": "code",
   "execution_count": 6,
   "id": "532e4006-5d85-43aa-b446-5931af288367",
   "metadata": {},
   "outputs": [],
   "source": [
    "df_w_shap.to_csv('CN_shap_250213.csv', index = False)"
   ]
  },
  {
   "cell_type": "code",
   "execution_count": null,
   "id": "ff6c18c5-f14b-4a82-aed5-95cc6b965975",
   "metadata": {},
   "outputs": [],
   "source": []
  }
 ],
 "metadata": {
  "kernelspec": {
   "display_name": "Python 3 (ipykernel)",
   "language": "python",
   "name": "python3"
  },
  "language_info": {
   "codemirror_mode": {
    "name": "ipython",
    "version": 3
   },
   "file_extension": ".py",
   "mimetype": "text/x-python",
   "name": "python",
   "nbconvert_exporter": "python",
   "pygments_lexer": "ipython3",
   "version": "3.8.18"
  }
 },
 "nbformat": 4,
 "nbformat_minor": 5
}
